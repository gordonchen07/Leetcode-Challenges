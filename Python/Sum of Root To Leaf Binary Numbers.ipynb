{
 "cells": [
  {
   "cell_type": "code",
   "execution_count": 17,
   "metadata": {},
   "outputs": [],
   "source": [
    "# Definition for a binary tree node.\n",
    "class TreeNode:\n",
    "    def __init__(self, val=0, left=None, right=None):\n",
    "        self.val = val\n",
    "        self.left = left\n",
    "        self.right = right\n",
    "class Solution:\n",
    "    def sumRootToLeaf(self, root: TreeNode):\n",
    "        total = 0\n",
    "        \n",
    "        def dfs(node, current):\n",
    "            if node is None:\n",
    "                return 0\n",
    "            \n",
    "            current = current * 2 + node.val\n",
    "            if node.left is None and node.right is None:\n",
    "                nonlocal total\n",
    "                total += current\n",
    "                return\n",
    "            \n",
    "            dfs(node.left, current)\n",
    "            dfs(node.right, current)\n",
    "        \n",
    "        dfs(root, 0)\n",
    "        return total"
   ]
  },
  {
   "cell_type": "code",
   "execution_count": null,
   "metadata": {},
   "outputs": [],
   "source": []
  }
 ],
 "metadata": {
  "kernelspec": {
   "display_name": "Python 3",
   "language": "python",
   "name": "python3"
  },
  "language_info": {
   "codemirror_mode": {
    "name": "ipython",
    "version": 3
   },
   "file_extension": ".py",
   "mimetype": "text/x-python",
   "name": "python",
   "nbconvert_exporter": "python",
   "pygments_lexer": "ipython3",
   "version": "3.7.7"
  }
 },
 "nbformat": 4,
 "nbformat_minor": 4
}
