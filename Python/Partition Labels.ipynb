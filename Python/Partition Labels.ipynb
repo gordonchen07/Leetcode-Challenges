{
 "cells": [
  {
   "cell_type": "code",
   "execution_count": 10,
   "metadata": {},
   "outputs": [],
   "source": [
    "S = 'ababcbacadefegdehijhklij'"
   ]
  },
  {
   "cell_type": "code",
   "execution_count": 11,
   "metadata": {},
   "outputs": [],
   "source": [
    "def partitionLabels(S):\n",
    "    ends = {c: i for i, c in enumerate(S)}\n",
    "    curr, out = 0, [0]\n",
    "    \n",
    "    while curr < len(S):\n",
    "        last = ends[S[curr]]\n",
    "        while curr <= last:\n",
    "            symb = S[curr]\n",
    "            last = max(last, ends[symb])\n",
    "            curr += 1\n",
    "        out.append(curr)\n",
    "    return [out[i]-out[i-1] for i in range(1, len(out))]"
   ]
  },
  {
   "cell_type": "code",
   "execution_count": null,
   "metadata": {},
   "outputs": [],
   "source": [
    "partition "
   ]
  }
 ],
 "metadata": {
  "kernelspec": {
   "display_name": "Python 3",
   "language": "python",
   "name": "python3"
  },
  "language_info": {
   "codemirror_mode": {
    "name": "ipython",
    "version": 3
   },
   "file_extension": ".py",
   "mimetype": "text/x-python",
   "name": "python",
   "nbconvert_exporter": "python",
   "pygments_lexer": "ipython3",
   "version": "3.7.7"
  }
 },
 "nbformat": 4,
 "nbformat_minor": 4
}
