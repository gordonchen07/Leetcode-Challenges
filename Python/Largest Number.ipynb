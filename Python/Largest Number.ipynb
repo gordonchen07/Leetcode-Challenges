{
 "cells": [
  {
   "cell_type": "code",
   "execution_count": 4,
   "metadata": {},
   "outputs": [],
   "source": [
    "def largestNumber(nums):\n",
    "    #Checks if all 0's and returns one 0.\n",
    "    if not any(map(bool, nums)):\n",
    "        return '0'\n",
    "    \n",
    "    #Converts all integers to strings in nums.\n",
    "    nums = list(map(str, nums))\n",
    "    \n",
    "    #If list of numbers is less than 2, just return the list\n",
    "    if len(nums) < 2:\n",
    "        return \"\".join(nums)\n",
    "    \n",
    "    #Function to compare two numbers\n",
    "    def compare(x, y):\n",
    "        return int(nums[x] + nums[y]) > int(nums[y] + nums[x])\n",
    "    \n",
    "    #Iterate through numbers in nums\n",
    "    for x in range(len(nums) - 1):\n",
    "        y = x + 1\n",
    "        while x < len(nums) and y < len(nums):\n",
    "            #If return true, move on to next y indexed number.\n",
    "            if compare(x, y):\n",
    "                pass\n",
    "            #Swap x and y indexed numbers\n",
    "            else:\n",
    "                nums[y], nums[x] = nums[x], nums[y]\n",
    "            y += 1\n",
    "            \n",
    "    return \"\".join(nums)"
   ]
  },
  {
   "cell_type": "code",
   "execution_count": 5,
   "metadata": {},
   "outputs": [
    {
     "data": {
      "text/plain": [
       "'9534330'"
      ]
     },
     "execution_count": 5,
     "metadata": {},
     "output_type": "execute_result"
    }
   ],
   "source": [
    "largestNumber([3,30,34,5,9])"
   ]
  },
  {
   "cell_type": "code",
   "execution_count": null,
   "metadata": {},
   "outputs": [],
   "source": []
  }
 ],
 "metadata": {
  "kernelspec": {
   "display_name": "Python 3",
   "language": "python",
   "name": "python3"
  },
  "language_info": {
   "codemirror_mode": {
    "name": "ipython",
    "version": 3
   },
   "file_extension": ".py",
   "mimetype": "text/x-python",
   "name": "python",
   "nbconvert_exporter": "python",
   "pygments_lexer": "ipython3",
   "version": "3.7.7"
  }
 },
 "nbformat": 4,
 "nbformat_minor": 4
}
