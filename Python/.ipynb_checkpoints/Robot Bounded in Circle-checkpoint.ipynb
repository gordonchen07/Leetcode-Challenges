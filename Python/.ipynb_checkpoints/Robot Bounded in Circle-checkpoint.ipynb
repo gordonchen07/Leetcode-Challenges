{
 "cells": [
  {
   "cell_type": "markdown",
   "metadata": {},
   "source": [
    "## Two Ways"
   ]
  },
  {
   "cell_type": "code",
   "execution_count": 11,
   "metadata": {},
   "outputs": [],
   "source": [
    "def isRobotBounded(instructions):\n",
    "        x,y = 0,0\n",
    "        d = 0\n",
    "        #           [up, right, down, left]\n",
    "        direction = [(0,1), (1,0), (0,-1), (-1,0)]\n",
    "        for i in instructions:\n",
    "            if i == 'G':\n",
    "                x += direction[d%4][0]\n",
    "                y += direction[d%4][1]\n",
    "            elif i == 'R':\n",
    "                d+=1\n",
    "            elif i == 'L':\n",
    "                d-=1\n",
    "        #Check if its back to origin or in a position where direction is different\n",
    "        return (x,y) == (0,0) or d%4 != 0"
   ]
  },
  {
   "cell_type": "code",
   "execution_count": 14,
   "metadata": {},
   "outputs": [],
   "source": [
    "def isRobotBounded2(instructions):\n",
    "        x, y= 0,0\n",
    "        direction = (0,1)\n",
    "        for i in instructions:\n",
    "            if i == 'G':\n",
    "                x += direction[0]\n",
    "                y += direction[1]\n",
    "            elif i == 'R':\n",
    "                direction = (-direction[1], direction[0])\n",
    "            elif i == 'L':\n",
    "                direction = (direction[1], -direction[0])\n",
    "        #Check if its back to origin or in a position where direction is different\n",
    "        return (x,y) == (0,0) or direction != (0,1)"
   ]
  },
  {
   "cell_type": "code",
   "execution_count": 25,
   "metadata": {},
   "outputs": [],
   "source": [
    "test = \"GGLLGG\""
   ]
  },
  {
   "cell_type": "code",
   "execution_count": 26,
   "metadata": {},
   "outputs": [
    {
     "data": {
      "text/plain": [
       "True"
      ]
     },
     "execution_count": 26,
     "metadata": {},
     "output_type": "execute_result"
    }
   ],
   "source": [
    "isRobotBounded(test)"
   ]
  },
  {
   "cell_type": "code",
   "execution_count": 27,
   "metadata": {},
   "outputs": [
    {
     "data": {
      "text/plain": [
       "True"
      ]
     },
     "execution_count": 27,
     "metadata": {},
     "output_type": "execute_result"
    }
   ],
   "source": [
    "isRobotBounded2(test)"
   ]
  },
  {
   "cell_type": "code",
   "execution_count": null,
   "metadata": {},
   "outputs": [],
   "source": []
  }
 ],
 "metadata": {
  "kernelspec": {
   "display_name": "Python 3",
   "language": "python",
   "name": "python3"
  },
  "language_info": {
   "codemirror_mode": {
    "name": "ipython",
    "version": 3
   },
   "file_extension": ".py",
   "mimetype": "text/x-python",
   "name": "python",
   "nbconvert_exporter": "python",
   "pygments_lexer": "ipython3",
   "version": "3.7.7"
  }
 },
 "nbformat": 4,
 "nbformat_minor": 4
}
