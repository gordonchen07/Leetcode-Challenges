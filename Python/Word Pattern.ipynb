{
 "cells": [
  {
   "cell_type": "code",
   "execution_count": 19,
   "metadata": {},
   "outputs": [],
   "source": [
    "pattern = \"abba\"\n",
    "string = \"dog cat cat dog\""
   ]
  },
  {
   "cell_type": "code",
   "execution_count": 20,
   "metadata": {},
   "outputs": [],
   "source": [
    "def wordPattern(pattern, string):\n",
    "    string = string.split(' ')\n",
    "    if not len(pattern) == len(string):\n",
    "        return False\n",
    "    \n",
    "    char_to_word = {}\n",
    "    word_to_char = {}\n",
    "    \n",
    "    for char, word in zip(pattern, string):\n",
    "        if char not in char_to_word:\n",
    "            if word in word_to_char:\n",
    "                return False\n",
    "            else:\n",
    "                char_to_word[char] = word\n",
    "                word_to_char[word] = char\n",
    "        else:\n",
    "            if char_to_word[char] != word:\n",
    "                return False\n",
    "    return True"
   ]
  },
  {
   "cell_type": "code",
   "execution_count": 21,
   "metadata": {},
   "outputs": [
    {
     "data": {
      "text/plain": [
       "True"
      ]
     },
     "execution_count": 21,
     "metadata": {},
     "output_type": "execute_result"
    }
   ],
   "source": [
    "wordPattern(pattern, string)"
   ]
  },
  {
   "cell_type": "code",
   "execution_count": null,
   "metadata": {},
   "outputs": [],
   "source": []
  }
 ],
 "metadata": {
  "kernelspec": {
   "display_name": "Python 3",
   "language": "python",
   "name": "python3"
  },
  "language_info": {
   "codemirror_mode": {
    "name": "ipython",
    "version": 3
   },
   "file_extension": ".py",
   "mimetype": "text/x-python",
   "name": "python",
   "nbconvert_exporter": "python",
   "pygments_lexer": "ipython3",
   "version": "3.7.7"
  }
 },
 "nbformat": 4,
 "nbformat_minor": 4
}
