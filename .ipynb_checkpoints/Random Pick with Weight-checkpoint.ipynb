{
 "cells": [
  {
   "cell_type": "code",
   "execution_count": 6,
   "metadata": {},
   "outputs": [],
   "source": [
    "class Solution:\n",
    "\n",
    "    def __init__(self, w):\n",
    "        self.prefix_sum = []\n",
    "        prefix_sum = 0\n",
    "        for weight in w:\n",
    "            prefix_sum += weight\n",
    "            self.prefix_sum.append(prefix_sum)\n",
    "        self.total_sum = prefix_sum\n",
    "\n",
    "    def pickIndex(self):\n",
    "        random_num = self.total_sum * random.random()\n",
    "        low, high = 0, len(self.prefix_sum)\n",
    "        while low < high:\n",
    "            mid = low + (high - low)//2\n",
    "            if random_num > self.prefix_sum[mid]:\n",
    "                low = mid + 1\n",
    "            else:\n",
    "                high = mid\n",
    "        return low"
   ]
  },
  {
   "cell_type": "code",
   "execution_count": null,
   "metadata": {},
   "outputs": [],
   "source": []
  }
 ],
 "metadata": {
  "kernelspec": {
   "display_name": "Python 3",
   "language": "python",
   "name": "python3"
  },
  "language_info": {
   "codemirror_mode": {
    "name": "ipython",
    "version": 3
   },
   "file_extension": ".py",
   "mimetype": "text/x-python",
   "name": "python",
   "nbconvert_exporter": "python",
   "pygments_lexer": "ipython3",
   "version": "3.7.7"
  }
 },
 "nbformat": 4,
 "nbformat_minor": 4
}
