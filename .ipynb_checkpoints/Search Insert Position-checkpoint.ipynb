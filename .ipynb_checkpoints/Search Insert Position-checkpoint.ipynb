{
 "cells": [
  {
   "cell_type": "code",
   "execution_count": 1,
   "metadata": {},
   "outputs": [],
   "source": [
    "def searchInsert(nums, target):\n",
    "        \"\"\"Binary Search Method\"\"\"\n",
    "        l , r = 0, len(nums)-1\n",
    "        while l <= r:\n",
    "            mid=(l+r)//2\n",
    "            if nums[mid] == target:\n",
    "                return mid\n",
    "            if nums[mid] < target:\n",
    "                l = mid+1\n",
    "            else:\n",
    "                r = mid-1\n",
    "        return l\n",
    "\n",
    "        \"\"\"Length of Array Method\"\"\"\n",
    "        # if target > nums[len(nums) - 1]:\n",
    "        #     return len(nums)\n",
    "        # for i in range(len(nums)):\n",
    "        #     if nums[i] >= target:\n",
    "        #         return i\n",
    "        \n",
    "        \"\"\"Sorting Method\"\"\"\n",
    "        # if target in nums:\n",
    "        #     return nums.index(target)\n",
    "        # else:\n",
    "        #     nums.append(target)\n",
    "        #     sorted_nums = sorted(nums)\n",
    "        #     return sorted_nums.index(target)"
   ]
  },
  {
   "cell_type": "code",
   "execution_count": null,
   "metadata": {},
   "outputs": [],
   "source": []
  }
 ],
 "metadata": {
  "kernelspec": {
   "display_name": "Python 3",
   "language": "python",
   "name": "python3"
  },
  "language_info": {
   "codemirror_mode": {
    "name": "ipython",
    "version": 3
   },
   "file_extension": ".py",
   "mimetype": "text/x-python",
   "name": "python",
   "nbconvert_exporter": "python",
   "pygments_lexer": "ipython3",
   "version": "3.7.7"
  }
 },
 "nbformat": 4,
 "nbformat_minor": 4
}
